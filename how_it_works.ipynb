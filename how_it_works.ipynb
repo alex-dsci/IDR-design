{
 "cells": [
  {
   "cell_type": "markdown",
   "metadata": {},
   "source": [
    "<h2>IDR Design</h2>\n",
    "\n",
    "231005 - Tian Hao Huang, Julie Forman-Kay, Alan Moses\n",
    "\n",
    "This notebook generates protein sequences with a target biophysical feature vector, as described in the following papers:\n",
    "-   Zarin, T., Strome, B., Ba, A. N. N., Alberti, S., Forman‐Kay, J. D., & Moses, A. M. (2019). Proteome-wide signatures of function in highly diverged intrinsically disordered regions. eLife, 8. https://doi.org/10.7554/elife.46883\n",
    "-   Zarin, T., Strome, B., Peng, G., Pritišanac, I., Forman‐Kay, J. D., & Moses, A. M. (2021). Identifying molecular features that are associated with biological function of intrinsically disordered protein regions. eLife, 10. https://doi.org/10.7554/elife.60220\n",
    "\n",
    "The vectors consist of bulk molecular properties and short linear interaction motifs.\n",
    "Using the example of the human helicase DDX3X, let's take a look at the biophysical feature vector for its N- and C-terminal IDRs:"
   ]
  },
  {
   "cell_type": "code",
   "execution_count": null,
   "metadata": {},
   "outputs": [],
   "source": [
    "from idr_design.feature_calculators.main import SequenceFeatureCalculator\n",
    "from pandas import DataFrame\n",
    "\n",
    "feature_calculator = SequenceFeatureCalculator()\n",
    "ddx3x_n_idr = \"MSHVAVENALGLDQQFAGLDLNSSDNQSGGSTASKGRYIPPHLRNREATKGFYDKDSSGWSSSKDKDAYSSFGSRSDSRGKSSFFSDRGSGSRGRFDDRGRSDYDGIGSRGDRSGFGKFERGGNSRWCDKSDEDDWSKPLPPSERLEQELFSGGNTGINFEKYDDIP\"\n",
    "ddx3x_c_idr = \"YEHHYKGSSRGRSKSSRFSGGFGARDYRQSSGASSSSFSSSRASSSRSGGGGHGSSRGFGGGGYGGFYNSDGYGGNYNSQGVDWWGN\"\n",
    "features_unlabelled = feature_calculator.run_feats_multiple_seqs([ddx3x_n_idr, ddx3x_c_idr])\n",
    "columns = feature_calculator.supported_features\n",
    "features_labelled = DataFrame(features_unlabelled.values(), columns=columns, index=[\"N IDR\", \"C IDR\"])\n",
    "\n",
    "features_labelled"
   ]
  },
  {
   "cell_type": "markdown",
   "metadata": {},
   "source": [
    "We can determine how similar these vectors are by calculating their euclidean distance.\n",
    "\n",
    "However, the underlying variance of each of these traits is different, so we perform a rescaling of these features to have variance 1 before calculating the distance. \n",
    "\n",
    "First, we need to calculate the variance of each feature over some disprot IDRs (grabbed on Oct 3rd, 2023)"
   ]
  },
  {
   "cell_type": "code",
   "execution_count": null,
   "metadata": {},
   "outputs": [],
   "source": [
    "from idr_design.feature_calculators.main import DistanceCalculator\n",
    "\n",
    "dist_calculator = DistanceCalculator(feature_calculator, proteome_path=\"./tests/disprot_idrs_clean.fasta\")\n",
    "dist_calculator.proteome_variance"
   ]
  },
  {
   "cell_type": "markdown",
   "metadata": {},
   "source": [
    "Then, we calculate the distance between the N-terminal IDR and the C-terminal IDR:"
   ]
  },
  {
   "cell_type": "code",
   "execution_count": null,
   "metadata": {},
   "outputs": [],
   "source": [
    "from math import sqrt\n",
    "\n",
    "feats_n_idr = features_labelled.loc[\"N IDR\"]\n",
    "feats_c_idr = features_labelled.loc[\"C IDR\"]\n",
    "distance = sqrt(dist_calculator.sqr_distance(feats_n_idr, feats_c_idr))\n",
    "\n",
    "distance"
   ]
  },
  {
   "cell_type": "markdown",
   "metadata": {},
   "source": [
    "Now, we're ready to design sequences with a target biophysical feature vector, even if the primary sequence is completely different!\n",
    "\n",
    "We do this by starting with a random sequence, and making iterative sequence changes that greedily minimize the distance to the target vector.\n",
    "Let's try a brute force approach first, where you try substituting every amino acid at every position and take the best guess out of all those."
   ]
  },
  {
   "cell_type": "code",
   "execution_count": null,
   "metadata": {},
   "outputs": [],
   "source": [
    "from idr_design.design_models.iter_guess_model import BruteForce\n",
    "from idr_design.design_models.progress_logger import DisplayToStdout\n",
    "from pandas import Series\n",
    "\n",
    "designer_brute = BruteForce(dist_calculator, \"2023\", log=DisplayToStdout())\n",
    "designed_seq = designer_brute.design_similar(1, ddx3x_c_idr, verbose=True)[0]\n",
    "Series(feature_calculator.run_feats(designed_seq), index=feature_calculator.supported_features)"
   ]
  },
  {
   "cell_type": "markdown",
   "metadata": {},
   "source": [
    "Now that's pretty slow! I don't even want to show you what happens on the longer N-terminal IDR.\n",
    "\n",
    "Let's try a better approach, which I have called the Random Multiple Changes approach. This approach guesses point mutations randomly, finds multiple changes which decrease the distance, and the combines them to form guesses with multiple changes. Hence the name."
   ]
  },
  {
   "cell_type": "code",
   "execution_count": null,
   "metadata": {},
   "outputs": [],
   "source": [
    "from idr_design.design_models.iter_guess_model import RandMultiChange\n",
    "\n",
    "designer_brute = RandMultiChange(dist_calculator, \"2023\", log=DisplayToStdout())\n",
    "designed_seq = designer_brute.design_similar(1, ddx3x_c_idr, verbose=True)[0]\n",
    "Series(feature_calculator.run_feats(designed_seq), index=feature_calculator.supported_features)"
   ]
  },
  {
   "cell_type": "markdown",
   "metadata": {},
   "source": [
    "And that's it! Have fun designing sequences at this notebook!"
   ]
  }
 ],
 "metadata": {
  "kernelspec": {
   "display_name": "idr-design-alex",
   "language": "python",
   "name": "python3"
  },
  "language_info": {
   "codemirror_mode": {
    "name": "ipython",
    "version": 3
   },
   "file_extension": ".py",
   "mimetype": "text/x-python",
   "name": "python",
   "nbconvert_exporter": "python",
   "pygments_lexer": "ipython3",
   "version": "3.11.0"
  },
  "orig_nbformat": 4
 },
 "nbformat": 4,
 "nbformat_minor": 2
}
