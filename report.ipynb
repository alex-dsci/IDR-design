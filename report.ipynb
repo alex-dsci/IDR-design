{
 "cells": [
  {
   "cell_type": "markdown",
   "metadata": {},
   "source": [
    "<h2>IDR Design</h2>\n",
    "\n",
    "231005 - Tian Hao Huang, Julie Forman-Kay, Alan Moses\n",
    "\n",
    "This notebook generates protein sequences with a target biophysical feature vector, as described in the following papers:\n",
    "-   Zarin, T., Strome, B., Ba, A. N. N., Alberti, S., Forman‐Kay, J. D., & Moses, A. M. (2019). Proteome-wide signatures of function in highly diverged intrinsically disordered regions. eLife, 8. https://doi.org/10.7554/elife.46883\n",
    "-   Zarin, T., Strome, B., Peng, G., Pritišanac, I., Forman‐Kay, J. D., & Moses, A. M. (2021). Identifying molecular features that are associated with biological function of intrinsically disordered protein regions. eLife, 10. https://doi.org/10.7554/elife.60220\n",
    "\n",
    "The vectors consist of bulk biophysical properties and short linear interaction motifs.\n",
    "Using the example of the human helicase DDX3X, let's take a look at the biophysical feature vector for its N- and C-terminal IDRs:"
   ]
  },
  {
   "cell_type": "code",
   "execution_count": 1,
   "metadata": {},
   "outputs": [
    {
     "data": {
      "text/html": [
       "<div>\n",
       "<style scoped>\n",
       "    .dataframe tbody tr th:only-of-type {\n",
       "        vertical-align: middle;\n",
       "    }\n",
       "\n",
       "    .dataframe tbody tr th {\n",
       "        vertical-align: top;\n",
       "    }\n",
       "\n",
       "    .dataframe thead th {\n",
       "        text-align: right;\n",
       "    }\n",
       "</style>\n",
       "<table border=\"1\" class=\"dataframe\">\n",
       "  <thead>\n",
       "    <tr style=\"text-align: right;\">\n",
       "      <th></th>\n",
       "      <th>my_kappa</th>\n",
       "      <th>my_omega</th>\n",
       "      <th>SCD</th>\n",
       "      <th>isoelectric_point</th>\n",
       "      <th>FCR</th>\n",
       "      <th>DEG_APCC_DBOX_1</th>\n",
       "      <th>DEG_APCC_KENBOX_2</th>\n",
       "      <th>DOC_MAPK_MEF2A_6</th>\n",
       "      <th>DOC_CYCLIN_RxL_1</th>\n",
       "      <th>DOC_MAPK_FxFP_2</th>\n",
       "      <th>...</th>\n",
       "      <th>P_repeats</th>\n",
       "      <th>PTS_repeats</th>\n",
       "      <th>Q_repeats</th>\n",
       "      <th>QN_repeats</th>\n",
       "      <th>R_repeats</th>\n",
       "      <th>RG_repeats</th>\n",
       "      <th>S_repeats</th>\n",
       "      <th>SG_repeats</th>\n",
       "      <th>SR_repeats</th>\n",
       "      <th>complexity</th>\n",
       "    </tr>\n",
       "  </thead>\n",
       "  <tbody>\n",
       "    <tr>\n",
       "      <th>N IDR</th>\n",
       "      <td>-1.844929</td>\n",
       "      <td>-0.545011</td>\n",
       "      <td>-0.670259</td>\n",
       "      <td>5.45991</td>\n",
       "      <td>0.317365</td>\n",
       "      <td>0</td>\n",
       "      <td>0</td>\n",
       "      <td>0</td>\n",
       "      <td>0</td>\n",
       "      <td>0</td>\n",
       "      <td>...</td>\n",
       "      <td>2</td>\n",
       "      <td>10</td>\n",
       "      <td>1</td>\n",
       "      <td>2</td>\n",
       "      <td>0</td>\n",
       "      <td>12</td>\n",
       "      <td>6</td>\n",
       "      <td>19</td>\n",
       "      <td>14</td>\n",
       "      <td>2.448322</td>\n",
       "    </tr>\n",
       "    <tr>\n",
       "      <th>C IDR</th>\n",
       "      <td>0.090220</td>\n",
       "      <td>-0.095982</td>\n",
       "      <td>0.093023</td>\n",
       "      <td>10.07898</td>\n",
       "      <td>0.160920</td>\n",
       "      <td>0</td>\n",
       "      <td>0</td>\n",
       "      <td>0</td>\n",
       "      <td>0</td>\n",
       "      <td>0</td>\n",
       "      <td>...</td>\n",
       "      <td>0</td>\n",
       "      <td>11</td>\n",
       "      <td>0</td>\n",
       "      <td>0</td>\n",
       "      <td>0</td>\n",
       "      <td>12</td>\n",
       "      <td>11</td>\n",
       "      <td>25</td>\n",
       "      <td>18</td>\n",
       "      <td>1.918661</td>\n",
       "    </tr>\n",
       "  </tbody>\n",
       "</table>\n",
       "<p>2 rows × 94 columns</p>\n",
       "</div>"
      ],
      "text/plain": [
       "       my_kappa  my_omega       SCD  isoelectric_point       FCR  \\\n",
       "N IDR -1.844929 -0.545011 -0.670259            5.45991  0.317365   \n",
       "C IDR  0.090220 -0.095982  0.093023           10.07898  0.160920   \n",
       "\n",
       "       DEG_APCC_DBOX_1  DEG_APCC_KENBOX_2  DOC_MAPK_MEF2A_6  DOC_CYCLIN_RxL_1  \\\n",
       "N IDR                0                  0                 0                 0   \n",
       "C IDR                0                  0                 0                 0   \n",
       "\n",
       "       DOC_MAPK_FxFP_2  ...  P_repeats  PTS_repeats  Q_repeats  QN_repeats  \\\n",
       "N IDR                0  ...          2           10          1           2   \n",
       "C IDR                0  ...          0           11          0           0   \n",
       "\n",
       "       R_repeats  RG_repeats  S_repeats  SG_repeats  SR_repeats  complexity  \n",
       "N IDR          0          12          6          19          14    2.448322  \n",
       "C IDR          0          12         11          25          18    1.918661  \n",
       "\n",
       "[2 rows x 94 columns]"
      ]
     },
     "execution_count": 1,
     "metadata": {},
     "output_type": "execute_result"
    }
   ],
   "source": [
    "from idr_design.feature_calculators.main import SequenceFeatureCalculator\n",
    "from pandas import DataFrame\n",
    "\n",
    "feature_calculator = SequenceFeatureCalculator()\n",
    "ddx3x_n_idr = \"MSHVAVENALGLDQQFAGLDLNSSDNQSGGSTASKGRYIPPHLRNREATKGFYDKDSSGWSSSKDKDAYSSFGSRSDSRGKSSFFSDRGSGSRGRFDDRGRSDYDGIGSRGDRSGFGKFERGGNSRWCDKSDEDDWSKPLPPSERLEQELFSGGNTGINFEKYDDIP\"\n",
    "ddx3x_c_idr = \"YEHHYKGSSRGRSKSSRFSGGFGARDYRQSSGASSSSFSSSRASSSRSGGGGHGSSRGFGGGGYGGFYNSDGYGGNYNSQGVDWWGN\"\n",
    "features_unlabelled = feature_calculator.run_feats_multiple_seqs([ddx3x_n_idr, ddx3x_c_idr])\n",
    "columns = feature_calculator.supported_features\n",
    "features_labelled = DataFrame(features_unlabelled.values(), columns=columns, index=[\"N IDR\", \"C IDR\"])\n",
    "\n",
    "features_labelled"
   ]
  },
  {
   "cell_type": "markdown",
   "metadata": {},
   "source": [
    "We can determine how similar these vectors are by calculating their euclidean distance.\n",
    "\n",
    "However, the underlying variance of each of these traits is different, so we perform a rescaling of these features to have variance 1 before calculating the distance. \n",
    "\n",
    "First, we need to calculate the variance of each feature over all disprot IDRs (as of Oct 3rd, 2023)"
   ]
  },
  {
   "cell_type": "code",
   "execution_count": 2,
   "metadata": {},
   "outputs": [
    {
     "data": {
      "text/plain": [
       "my_kappa              1.815060\n",
       "my_omega              0.489790\n",
       "SCD                  99.730140\n",
       "isoelectric_point     7.293132\n",
       "FCR                   0.018291\n",
       "                       ...    \n",
       "RG_repeats           16.225385\n",
       "S_repeats             4.811465\n",
       "SG_repeats           30.241691\n",
       "SR_repeats           17.775914\n",
       "complexity            0.210320\n",
       "Length: 94, dtype: float64"
      ]
     },
     "execution_count": 2,
     "metadata": {},
     "output_type": "execute_result"
    }
   ],
   "source": [
    "from idr_design.feature_calculators.main import DistanceCalculator\n",
    "\n",
    "dist_calculator = DistanceCalculator(feature_calculator, proteome_path=\"./tests/disprot_idrs_clean.fasta\")\n",
    "dist_calculator.proteome_variance"
   ]
  },
  {
   "cell_type": "markdown",
   "metadata": {},
   "source": [
    "Then, we calculate the distance between the N-terminal IDR and the C-terminal IDR:"
   ]
  },
  {
   "cell_type": "code",
   "execution_count": 3,
   "metadata": {},
   "outputs": [
    {
     "data": {
      "text/plain": [
       "11.660992763802641"
      ]
     },
     "execution_count": 3,
     "metadata": {},
     "output_type": "execute_result"
    }
   ],
   "source": [
    "from math import sqrt\n",
    "\n",
    "feats_n_idr = features_labelled.loc[\"N IDR\"]\n",
    "feats_c_idr = features_labelled.loc[\"C IDR\"]\n",
    "distance = sqrt(dist_calculator.sqr_distance(feats_n_idr, feats_c_idr))\n",
    "\n",
    "distance"
   ]
  },
  {
   "cell_type": "markdown",
   "metadata": {},
   "source": [
    "Now, we're ready to design sequences with a target biophysical feature vector, even if the primary sequence is completely different!\n",
    "\n",
    "We do this by starting with a random sequence, and making iterative sequence changes that greedily minimize the distance to the target vector.\n",
    "Let's try a brute force approach first, where you try substituting every amino acid at every position and take the best guess out of all those.\n",
    "\n",
    "(Skip this cell if you are in a hurry to design sequences)"
   ]
  },
  {
   "cell_type": "code",
   "execution_count": 4,
   "metadata": {},
   "outputs": [
    {
     "name": "stdout",
     "output_type": "stream",
     "text": [
      "seq                                                                                                 \tdist_to_target      \ttime                \n",
      "SSSSANDCSSFGLTWLNFQMSCNNTDIDHVENGGYAPGGGFGMTHRGFGGCWCWMMSWFNPIHTSSSHHPPEVQVVNCRRPGWNWYF             \t10.26705203188014   \t8.849781036376953   \r"
     ]
    },
    {
     "ename": "KeyboardInterrupt",
     "evalue": "",
     "output_type": "error",
     "traceback": [
      "\u001b[0;31m---------------------------------------------------------------------------\u001b[0m",
      "\u001b[0;31mKeyboardInterrupt\u001b[0m                         Traceback (most recent call last)",
      "\u001b[1;32m/Users/AlexPi/Desktop/230908 - JFK and Moses work/IDR-design/report.ipynb Cell 8\u001b[0m line \u001b[0;36m5\n\u001b[1;32m      <a href='vscode-notebook-cell:/Users/AlexPi/Desktop/230908%20-%20JFK%20and%20Moses%20work/IDR-design/report.ipynb#X12sZmlsZQ%3D%3D?line=1'>2</a>\u001b[0m \u001b[39mfrom\u001b[39;00m \u001b[39mpandas\u001b[39;00m \u001b[39mimport\u001b[39;00m Series\n\u001b[1;32m      <a href='vscode-notebook-cell:/Users/AlexPi/Desktop/230908%20-%20JFK%20and%20Moses%20work/IDR-design/report.ipynb#X12sZmlsZQ%3D%3D?line=3'>4</a>\u001b[0m designer_brute \u001b[39m=\u001b[39m BruteForce(dist_calculator, \u001b[39m\"\u001b[39m\u001b[39m2023\u001b[39m\u001b[39m\"\u001b[39m)\n\u001b[0;32m----> <a href='vscode-notebook-cell:/Users/AlexPi/Desktop/230908%20-%20JFK%20and%20Moses%20work/IDR-design/report.ipynb#X12sZmlsZQ%3D%3D?line=4'>5</a>\u001b[0m designed_seq \u001b[39m=\u001b[39m designer_brute\u001b[39m.\u001b[39;49mdesign_similar(\u001b[39m1\u001b[39;49m, ddx3x_c_idr, verbose\u001b[39m=\u001b[39;49m\u001b[39mTrue\u001b[39;49;00m)[\u001b[39m0\u001b[39m]\n\u001b[1;32m      <a href='vscode-notebook-cell:/Users/AlexPi/Desktop/230908%20-%20JFK%20and%20Moses%20work/IDR-design/report.ipynb#X12sZmlsZQ%3D%3D?line=5'>6</a>\u001b[0m Series(feature_calculator\u001b[39m.\u001b[39mrun_feats(designed_seq), index\u001b[39m=\u001b[39mfeature_calculator\u001b[39m.\u001b[39msupported_features)\n",
      "File \u001b[0;32m~/Desktop/230908 - JFK and Moses work/IDR-design/idr_design/design_models/generic_designer.py:41\u001b[0m, in \u001b[0;36mSequenceDesigner.design_similar\u001b[0;34m(self, query, target, verbose)\u001b[0m\n\u001b[1;32m     39\u001b[0m output: \u001b[39mlist\u001b[39m[\u001b[39mstr\u001b[39m] \u001b[39m=\u001b[39m []\n\u001b[1;32m     40\u001b[0m \u001b[39mfor\u001b[39;00m seq \u001b[39min\u001b[39;00m queries:\n\u001b[0;32m---> 41\u001b[0m     output\u001b[39m.\u001b[39mappend(\u001b[39mself\u001b[39;49m\u001b[39m.\u001b[39;49msearch_similar(seq, target))\n\u001b[1;32m     42\u001b[0m \u001b[39mreturn\u001b[39;00m output\n",
      "File \u001b[0;32m~/Desktop/230908 - JFK and Moses work/IDR-design/idr_design/design_models/iter_guess_model.py:47\u001b[0m, in \u001b[0;36mIterativeGuessModel.search_similar\u001b[0;34m(self, query, target, precision)\u001b[0m\n\u001b[1;32m     45\u001b[0m     guess_feats: Series \u001b[39m=\u001b[39m Series(\u001b[39mself\u001b[39m\u001b[39m.\u001b[39mfeature_calculator\u001b[39m.\u001b[39mrun_feats(guess), index\u001b[39m=\u001b[39m\u001b[39mself\u001b[39m\u001b[39m.\u001b[39mfeature_calculator\u001b[39m.\u001b[39msupported_features)\n\u001b[1;32m     46\u001b[0m \u001b[39mexcept\u001b[39;00m \u001b[39mKeyboardInterrupt\u001b[39;00m \u001b[39mas\u001b[39;00m interrupt:\n\u001b[0;32m---> 47\u001b[0m     \u001b[39mraise\u001b[39;00m interrupt\n\u001b[1;32m     48\u001b[0m \u001b[39mexcept\u001b[39;00m:\n\u001b[1;32m     49\u001b[0m     \u001b[39mcontinue\u001b[39;00m\n",
      "File \u001b[0;32m~/Desktop/230908 - JFK and Moses work/IDR-design/idr_design/design_models/iter_guess_model.py:45\u001b[0m, in \u001b[0;36mIterativeGuessModel.search_similar\u001b[0;34m(self, query, target, precision)\u001b[0m\n\u001b[1;32m     43\u001b[0m \u001b[39mfor\u001b[39;00m guess \u001b[39min\u001b[39;00m next_seqs:\n\u001b[1;32m     44\u001b[0m     \u001b[39mtry\u001b[39;00m:\n\u001b[0;32m---> 45\u001b[0m         guess_feats: Series \u001b[39m=\u001b[39m Series(\u001b[39mself\u001b[39;49m\u001b[39m.\u001b[39;49mfeature_calculator\u001b[39m.\u001b[39;49mrun_feats(guess), index\u001b[39m=\u001b[39m\u001b[39mself\u001b[39m\u001b[39m.\u001b[39mfeature_calculator\u001b[39m.\u001b[39msupported_features)\n\u001b[1;32m     46\u001b[0m     \u001b[39mexcept\u001b[39;00m \u001b[39mKeyboardInterrupt\u001b[39;00m \u001b[39mas\u001b[39;00m interrupt:\n\u001b[1;32m     47\u001b[0m         \u001b[39mraise\u001b[39;00m interrupt\n",
      "File \u001b[0;32m~/Desktop/230908 - JFK and Moses work/IDR-design/idr_design/feature_calculators/main.py:42\u001b[0m, in \u001b[0;36mSequenceFeatureCalculator.run_feats\u001b[0;34m(self, seq)\u001b[0m\n\u001b[1;32m     41\u001b[0m \u001b[39mdef\u001b[39;00m \u001b[39mrun_feats\u001b[39m(\u001b[39mself\u001b[39m, seq: \u001b[39mstr\u001b[39m) \u001b[39m-\u001b[39m\u001b[39m>\u001b[39m \u001b[39mlist\u001b[39m[\u001b[39mfloat\u001b[39m]:\n\u001b[0;32m---> 42\u001b[0m     \u001b[39mreturn\u001b[39;00m \u001b[39mlist\u001b[39m(\u001b[39mmap\u001b[39m(\u001b[39mlambda\u001b[39;00m feat: \u001b[39mself\u001b[39m[feat](seq), \u001b[39mself\u001b[39m\u001b[39m.\u001b[39msupported_features))\n",
      "File \u001b[0;32m~/Desktop/230908 - JFK and Moses work/IDR-design/idr_design/feature_calculators/main.py:42\u001b[0m, in \u001b[0;36mSequenceFeatureCalculator.run_feats.<locals>.<lambda>\u001b[0;34m(feat)\u001b[0m\n\u001b[1;32m     41\u001b[0m \u001b[39mdef\u001b[39;00m \u001b[39mrun_feats\u001b[39m(\u001b[39mself\u001b[39m, seq: \u001b[39mstr\u001b[39m) \u001b[39m-\u001b[39m\u001b[39m>\u001b[39m \u001b[39mlist\u001b[39m[\u001b[39mfloat\u001b[39m]:\n\u001b[0;32m---> 42\u001b[0m     \u001b[39mreturn\u001b[39;00m \u001b[39mlist\u001b[39m(\u001b[39mmap\u001b[39m(\u001b[39mlambda\u001b[39;00m feat: \u001b[39mself\u001b[39;49m[feat](seq), \u001b[39mself\u001b[39m\u001b[39m.\u001b[39msupported_features))\n",
      "File \u001b[0;32m~/Desktop/230908 - JFK and Moses work/IDR-design/idr_design/feature_calculators/sub_features/single_pass_features.py:80\u001b[0m, in \u001b[0;36mhandle_complexity\u001b[0;34m(seq_or_counts)\u001b[0m\n\u001b[1;32m     78\u001b[0m \u001b[39melse\u001b[39;00m:\n\u001b[1;32m     79\u001b[0m     counts \u001b[39m=\u001b[39m \u001b[39mlist\u001b[39m(seq_or_counts\u001b[39m.\u001b[39mvalues())\n\u001b[0;32m---> 80\u001b[0m \u001b[39mreturn\u001b[39;00m _complexity(counts)\n",
      "File \u001b[0;32m~/Desktop/230908 - JFK and Moses work/IDR-design/idr_design/feature_calculators/sub_features/single_pass_features.py:27\u001b[0m, in \u001b[0;36m_complexity\u001b[0;34m(counts)\u001b[0m\n\u001b[1;32m     25\u001b[0m \u001b[39mfor\u001b[39;00m count \u001b[39min\u001b[39;00m counts:\n\u001b[1;32m     26\u001b[0m     \u001b[39msum\u001b[39m \u001b[39m+\u001b[39m\u001b[39m=\u001b[39m count\n\u001b[0;32m---> 27\u001b[0m     log_gamma_sum \u001b[39m+\u001b[39m\u001b[39m=\u001b[39m lgamma(\u001b[39m1\u001b[39m \u001b[39m+\u001b[39m count)\n\u001b[1;32m     28\u001b[0m \u001b[39mreturn\u001b[39;00m (lgamma(\u001b[39m1\u001b[39m \u001b[39m+\u001b[39m \u001b[39msum\u001b[39m) \u001b[39m-\u001b[39m log_gamma_sum) \u001b[39m/\u001b[39m \u001b[39msum\u001b[39m\n",
      "\u001b[0;31mKeyboardInterrupt\u001b[0m: "
     ]
    }
   ],
   "source": [
    "from idr_design.design_models.iter_guess_model import BruteForce\n",
    "from pandas import Series\n",
    "\n",
    "designer_brute = BruteForce(dist_calculator, \"2023\")\n",
    "designed_seq = designer_brute.design_similar(1, ddx3x_c_idr, verbose=True)[0]\n",
    "Series(feature_calculator.run_feats(designed_seq), index=feature_calculator.supported_features)"
   ]
  },
  {
   "cell_type": "markdown",
   "metadata": {},
   "source": [
    "Now that's pretty slow! I don't even want to show you what happens on the longer N-terminal IDR.\n",
    "\n",
    "Let's try a better approach, which I have called the Random Multiple Changes approach. This approach guesses point mutations randomly, finds multiple changes which decrease the distance, and the combines them to form guesses with multiple changes. Hence the name.\n",
    "\n",
    "(Again, skip if you just want to design sequences, although this one's fast.)"
   ]
  },
  {
   "cell_type": "code",
   "execution_count": 5,
   "metadata": {},
   "outputs": [
    {
     "name": "stdout",
     "output_type": "stream",
     "text": [
      "seq                                                                                                 \tdist_to_target      \ttime                \n",
      "YGGGGRKGGENGGGSSSFGGSSYSSYVDSSYGGDYGWGFGFGSSSGRAYGKHARSRSRFNSQFSSSHHAQGGWNSRDSRGYGSSSRN             \t0.34271289145477046 \t3.60129976272583    \n",
      "\r"
     ]
    },
    {
     "data": {
      "text/plain": [
       "my_kappa              0.090220\n",
       "my_omega             -0.095982\n",
       "SCD                   0.516144\n",
       "isoelectric_point    10.078980\n",
       "FCR                   0.160920\n",
       "                       ...    \n",
       "RG_repeats           12.000000\n",
       "S_repeats            11.000000\n",
       "SG_repeats           25.000000\n",
       "SR_repeats           18.000000\n",
       "complexity            1.918661\n",
       "Length: 94, dtype: float64"
      ]
     },
     "execution_count": 5,
     "metadata": {},
     "output_type": "execute_result"
    }
   ],
   "source": [
    "from idr_design.design_models.iter_guess_model import RandMultiChange\n",
    "from pandas import Series\n",
    "\n",
    "designer_brute = RandMultiChange(dist_calculator, \"2023\")\n",
    "designed_seq = designer_brute.design_similar(1, ddx3x_c_idr, verbose=True)[0]\n",
    "Series(feature_calculator.run_feats(designed_seq), index=feature_calculator.supported_features)"
   ]
  },
  {
   "cell_type": "markdown",
   "metadata": {},
   "source": [
    "So super quick if that's what you're here for, here's the code to design a sequence similar to any user inputted sequence:\n",
    "\n",
    "(If you run this you need to find the place to input sequences/numbers)"
   ]
  },
  {
   "cell_type": "code",
   "execution_count": 8,
   "metadata": {},
   "outputs": [
    {
     "name": "stdout",
     "output_type": "stream",
     "text": [
      "seq                                                                                                 \tdist_to_target      \ttime                \n",
      "QLPPLQYRPIGRASMTEGRTRRLIDQRFGCLRYCLLALRALPAPSGQLVPLASKPLRQSM                                        \t0.40096914414786927 \t2.930323839187622   \n",
      "seq                                                                                                 \tdist_to_target      \ttime                \n",
      "AYRGLYSGVGRVTRQASCSAIVIPPQAAPQVPCQVWRILSTRKRLQAVVRRPDGRVPEPA                                        \t0.02447803930453163 \t3.515394926071167   \n",
      "seq                                                                                                 \tdist_to_target      \ttime                \n",
      "YSAISIRPSIQEQPPRREIDFIQIRPLAIPQASGAAATGRVLLQYIAIRTLRMGRDRGKA                                        \t0.43012348355615493 \t3.3333680629730225  \n",
      "\r"
     ]
    },
    {
     "data": {
      "text/plain": [
       "['QLPPLQYRPIGRASMTEGRTRRLIDQRFGCLRYCLLALRALPAPSGQLVPLASKPLRQSM',\n",
       " 'AYRGLYSGVGRVTRQASCSAIVIPPQAAPQVPCQVWRILSTRKRLQAVVRRPDGRVPEPA',\n",
       " 'YSAISIRPSIQEQPPRREIDFIQIRPLAIPQASGAAATGRVLLQYIAIRTLRMGRDRGKA']"
      ]
     },
     "execution_count": 8,
     "metadata": {},
     "output_type": "execute_result"
    }
   ],
   "source": [
    "from idr_design.design_models.iter_guess_model import RandMultiChange\n",
    "from pandas import Series\n",
    "\n",
    "designer_brute = RandMultiChange(dist_calculator, \"2023\")\n",
    "user_seq = input(\"Give a sequence! (Defaults to ddx3x_n_idr)\")\n",
    "if user_seq == \"\":\n",
    "    user_seq = ddx3x_n_idr\n",
    "n = int(input(\"How many do you want to design?\"))\n",
    "# Make sure that you gave a valid sequence; errors here if not\n",
    "feature_calculator.run_feats(user_seq)\n",
    "designed_seqs = designer_brute.design_similar(n, user_seq, verbose=True)\n",
    "\n",
    "designed_seqs"
   ]
  },
  {
   "cell_type": "markdown",
   "metadata": {},
   "source": [
    "And that's it! Have fun designing sequences!"
   ]
  }
 ],
 "metadata": {
  "kernelspec": {
   "display_name": "idr-design-alex",
   "language": "python",
   "name": "python3"
  },
  "language_info": {
   "codemirror_mode": {
    "name": "ipython",
    "version": 3
   },
   "file_extension": ".py",
   "mimetype": "text/x-python",
   "name": "python",
   "nbconvert_exporter": "python",
   "pygments_lexer": "ipython3",
   "version": "3.11.0"
  },
  "orig_nbformat": 4
 },
 "nbformat": 4,
 "nbformat_minor": 2
}
