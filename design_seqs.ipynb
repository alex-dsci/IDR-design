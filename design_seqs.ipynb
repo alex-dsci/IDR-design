{
 "cells": [
  {
   "cell_type": "markdown",
   "metadata": {},
   "source": [
    "<h2>IDR Design</h2>\n",
    "\n",
    "231005 - Tian Hao Huang, Julie Forman-Kay, Alan Moses\n",
    "\n",
    "If you want to know how this notebook works, check out this other notebook.\n",
    "\n",
    "Otherwise, have fun designing sequences!"
   ]
  },
  {
   "cell_type": "code",
   "execution_count": null,
   "metadata": {},
   "outputs": [],
   "source": [
    "# Setup other cells\n",
    "from idr_design.design_models.iter_guess_model import BruteForce, RandMultiChange\n",
    "from idr_design.design_models.progress_logger import DisplayToStdout\n",
    "\n",
    "# Set seed if you want\n",
    "brute_force = BruteForce(log=DisplayToStdout(),seed=None)\n",
    "rand_mch = RandMultiChange(log=DisplayToStdout(),seed=None)"
   ]
  },
  {
   "cell_type": "code",
   "execution_count": null,
   "metadata": {},
   "outputs": [],
   "source": [
    "# Run brute force calculation\n",
    "input_seqs = input(\"Enter target sequences separated by whitespace:\\n\").strip().split()\n",
    "num_designs = int(input(\"How many designs do you want?\\n\"))\n",
    "for seq in input_seqs:\n",
    "    if not brute_force.feature_calculator.is_valid(seq):\n",
    "        print(f\"Invalid sequence: {seq}\")\n",
    "        continue\n",
    "    # Change job name if you want\n",
    "    brute_force.design_similar(num_designs, seq, verbose=True, job_name=\"BruteForce\")"
   ]
  },
  {
   "cell_type": "code",
   "execution_count": null,
   "metadata": {},
   "outputs": [],
   "source": [
    "# Run faster (rand mch) calculation\n",
    "input_seqs = input(\"Enter target sequences separated by whitespace:\\n\").strip().split()\n",
    "num_designs = int(input(\"How many designs do you want?\\n\"))\n",
    "for seq in input_seqs:\n",
    "    if not rand_mch.feature_calculator.is_valid(seq):\n",
    "        print(f\"Invalid sequence: {seq}\")\n",
    "        continue\n",
    "    # Change job name if you want\n",
    "    rand_mch.design_similar(num_designs, seq, verbose=True, job_name=\"RandMch\")"
   ]
  }
 ],
 "metadata": {
  "kernelspec": {
   "display_name": "idr-design-alex",
   "language": "python",
   "name": "python3"
  },
  "language_info": {
   "codemirror_mode": {
    "name": "ipython",
    "version": 3
   },
   "file_extension": ".py",
   "mimetype": "text/x-python",
   "name": "python",
   "nbconvert_exporter": "python",
   "pygments_lexer": "ipython3",
   "version": "3.11.0"
  },
  "orig_nbformat": 4
 },
 "nbformat": 4,
 "nbformat_minor": 2
}
